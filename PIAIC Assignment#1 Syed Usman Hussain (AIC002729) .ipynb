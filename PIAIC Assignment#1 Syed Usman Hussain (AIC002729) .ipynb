{
 "cells": [
  {
   "cell_type": "markdown",
   "metadata": {},
   "source": [
    "# PIAIC Assignment # 1 from Syed Usman Hussain (AIC002729)"
   ]
  },
  {
   "cell_type": "markdown",
   "metadata": {},
   "source": [
    "### Q1. Calculate Area of a Circle"
   ]
  },
  {
   "cell_type": "code",
   "execution_count": 1,
   "metadata": {},
   "outputs": [
    {
     "name": "stdout",
     "output_type": "stream",
     "text": [
      "Enter the radius of the intended circle = 44\n",
      "\n",
      "The area of the Circle with radius  44.0 is = 6084.571428571428\n"
     ]
    }
   ],
   "source": [
    "pi = 22/7\n",
    "radius = float(input(\"Enter the radius of the intended circle = \"))\n",
    "\n",
    "area = pi * radius ** 2\n",
    "\n",
    "print('\\nThe area of the Circle with radius ', radius, \"is =\", area)"
   ]
  },
  {
   "cell_type": "markdown",
   "metadata": {},
   "source": [
    "  "
   ]
  },
  {
   "cell_type": "markdown",
   "metadata": {},
   "source": [
    "  "
   ]
  },
  {
   "cell_type": "markdown",
   "metadata": {},
   "source": [
    "    "
   ]
  },
  {
   "cell_type": "markdown",
   "metadata": {},
   "source": [
    "## Q2. Check Number either positive, negative or zero"
   ]
  },
  {
   "cell_type": "markdown",
   "metadata": {},
   "source": [
    "#### Zero Entry"
   ]
  },
  {
   "cell_type": "code",
   "execution_count": null,
   "metadata": {},
   "outputs": [],
   "source": [
    "number = int(input(\"Entre any intended number = \"))\n",
    "\n",
    "if number == 0:\n",
    "    print(\"\\nZero Entered\")\n",
    "\n",
    "elif number < 0:\n",
    "    print(\"\\nNegative Number Entered\")\n",
    "\n",
    "elif number > 0:\n",
    "    print(\"\\nPositive Number Entered\")\n",
    "\n",
    "else:\n",
    "    print(\"\\nInvalid input\")"
   ]
  },
  {
   "cell_type": "markdown",
   "metadata": {},
   "source": [
    "#### Negative Entry"
   ]
  },
  {
   "cell_type": "code",
   "execution_count": null,
   "metadata": {},
   "outputs": [],
   "source": [
    "number = int(input(\"Entre any intended number = \"))\n",
    "\n",
    "if number == 0:\n",
    "    print(\"\\nZero Entered\")\n",
    "\n",
    "elif number < 0:\n",
    "    print(\"\\nNegative Number Entered\")\n",
    "\n",
    "elif number > 0:\n",
    "    print(\"\\nPositive Number Entered\")\n",
    "\n",
    "else:\n",
    "    print(\"\\nInvalid input\")"
   ]
  },
  {
   "cell_type": "markdown",
   "metadata": {},
   "source": [
    "#### Positive Entry"
   ]
  },
  {
   "cell_type": "code",
   "execution_count": null,
   "metadata": {},
   "outputs": [],
   "source": [
    "number = int(input(\"Entre any intended number = \"))\n",
    "\n",
    "if number == 0:\n",
    "    print(\"\\nZero Entered\")\n",
    "\n",
    "elif number < 0:\n",
    "    print(\"\\nNegative Number Entered\")\n",
    "\n",
    "elif number > 0:\n",
    "    print(\"\\nPositive Number Entered\")\n",
    "\n",
    "else:\n",
    "    print(\"\\nInvalid input\")"
   ]
  },
  {
   "cell_type": "markdown",
   "metadata": {},
   "source": [
    "  "
   ]
  },
  {
   "cell_type": "markdown",
   "metadata": {},
   "source": [
    "  "
   ]
  },
  {
   "cell_type": "markdown",
   "metadata": {},
   "source": [
    "  "
   ]
  },
  {
   "cell_type": "markdown",
   "metadata": {},
   "source": [
    "  "
   ]
  },
  {
   "cell_type": "markdown",
   "metadata": {},
   "source": [
    "## Q3. Divisibility Check of two numbers"
   ]
  },
  {
   "cell_type": "markdown",
   "metadata": {},
   "source": [
    "#### Divisible input"
   ]
  },
  {
   "cell_type": "code",
   "execution_count": null,
   "metadata": {},
   "outputs": [],
   "source": [
    "numer = int(input(\"Enter numerator = \"))\n",
    "denom = int(input(\"Enter denominator = \"))\n",
    "\n",
    "division = numer % denom\n",
    "\n",
    "if(division == 0):\n",
    "    print(\"\\nNumber\" , numer , \"is completely divisible by\" , denom)\n",
    "\n",
    "elif(division != 0):\n",
    "    print(\"\\nNumber\" , numer , \"is not Completely divisible by \" , denom)\n",
    "\n",
    "else:\n",
    "    print(\"\\nInvalid input\")"
   ]
  },
  {
   "cell_type": "markdown",
   "metadata": {},
   "source": [
    "#### Not Divisible input"
   ]
  },
  {
   "cell_type": "code",
   "execution_count": null,
   "metadata": {},
   "outputs": [],
   "source": [
    "numer = int(input(\"Enter numerator = \"))\n",
    "denom = int(input(\"Enter denominator = \"))\n",
    "\n",
    "division = numer % denom\n",
    "\n",
    "if(division == 0):\n",
    "    print(\"\\nNumber\" , numer , \"is completely divisible by\" , denom)\n",
    "\n",
    "elif(division != 0):\n",
    "    print(\"\\nNumber\" , numer , \"is not Completely divisible by \" , denom)\n",
    "\n",
    "else:\n",
    "    print(\"\\nInvalid input\")"
   ]
  },
  {
   "cell_type": "markdown",
   "metadata": {},
   "source": [
    "  "
   ]
  },
  {
   "cell_type": "markdown",
   "metadata": {},
   "source": [
    " "
   ]
  },
  {
   "cell_type": "markdown",
   "metadata": {},
   "source": [
    " "
   ]
  },
  {
   "cell_type": "markdown",
   "metadata": {},
   "source": [
    " "
   ]
  },
  {
   "cell_type": "markdown",
   "metadata": {},
   "source": [
    "## Q4. Calculate Volume of a sphere"
   ]
  },
  {
   "cell_type": "markdown",
   "metadata": {},
   "source": [
    "##### Write a Python program to get the volume of a sphere, please take the radius as input from user"
   ]
  },
  {
   "cell_type": "code",
   "execution_count": null,
   "metadata": {},
   "outputs": [],
   "source": [
    "pi = 22/7\n",
    "\n",
    "radius = float(input(\"Enter the radius of the sphere = \"))\n",
    "\n",
    "volume = 4/3 *pi * radius**3\n",
    "\n",
    "print(\"\\nThe volume of the sphere with radius\", radius , \"is = \" ,  volume)"
   ]
  },
  {
   "cell_type": "markdown",
   "metadata": {},
   "source": [
    " "
   ]
  },
  {
   "cell_type": "markdown",
   "metadata": {},
   "source": [
    " "
   ]
  },
  {
   "cell_type": "markdown",
   "metadata": {},
   "source": [
    " "
   ]
  },
  {
   "cell_type": "markdown",
   "metadata": {},
   "source": [
    " "
   ]
  },
  {
   "cell_type": "markdown",
   "metadata": {},
   "source": [
    "## Q5. Copy string n times\n",
    "#### Write a Python program to get a string which is n (non-negative integer) copies of a given string."
   ]
  },
  {
   "cell_type": "code",
   "execution_count": null,
   "metadata": {},
   "outputs": [],
   "source": [
    "string = input('Enter string = ')\n",
    "\n",
    "copies = int (input(\"How many copies of String do you need = \"))\n",
    "\n",
    "if copies > 0:\n",
    "    result = string * copies\n",
    "    print(\"\\n\" , copies , \" Copies of \" , string , \" are = \" , result)\n",
    "    \n",
    "else:\n",
    "    print(\"\\ninvalid input\")\n",
    "\n",
    "\n"
   ]
  },
  {
   "cell_type": "code",
   "execution_count": null,
   "metadata": {},
   "outputs": [],
   "source": [
    "string = input('Enter string = ')\n",
    "\n",
    "copies = int (input(\"How many copies of String do you need = \"))\n",
    "\n",
    "if copies > 0:\n",
    "    result = string * copies\n",
    "    print(\"\\n\" , copies , \" Copies of \" , string , \" are = \" , result)\n",
    "    \n",
    "else:\n",
    "    print(\"\\ninvalid input\")"
   ]
  },
  {
   "cell_type": "markdown",
   "metadata": {},
   "source": [
    " "
   ]
  },
  {
   "cell_type": "markdown",
   "metadata": {},
   "source": [
    " "
   ]
  },
  {
   "cell_type": "markdown",
   "metadata": {},
   "source": [
    " "
   ]
  },
  {
   "cell_type": "markdown",
   "metadata": {},
   "source": [
    " "
   ]
  },
  {
   "cell_type": "markdown",
   "metadata": {},
   "source": [
    "## Q6. Check if number is Even or Odd\n",
    "### Write a Python program to find whether a given number (accept from the user) is even or odd, print out an appropriate message to the user"
   ]
  },
  {
   "cell_type": "markdown",
   "metadata": {},
   "source": [
    "#### Odd number"
   ]
  },
  {
   "cell_type": "code",
   "execution_count": null,
   "metadata": {},
   "outputs": [],
   "source": [
    "number = int(input(\"Enter number = \"))\n",
    "\n",
    "if number % 2 == 0:\n",
    "        print(number , \" = is Even\")\n",
    "        \n",
    "else:\n",
    "        print(\"\\n\" , number , \" = is Odd\")"
   ]
  },
  {
   "cell_type": "markdown",
   "metadata": {},
   "source": [
    "#### Even number"
   ]
  },
  {
   "cell_type": "code",
   "execution_count": null,
   "metadata": {},
   "outputs": [],
   "source": [
    "number = int(input(\"Enter number = \"))\n",
    "\n",
    "if number % 2 == 0:\n",
    "        print(number , \" = is Even\")\n",
    "        \n",
    "else:\n",
    "        print(\"\\n\" , number , \" = is Odd\")"
   ]
  },
  {
   "cell_type": "markdown",
   "metadata": {},
   "source": [
    " "
   ]
  },
  {
   "cell_type": "markdown",
   "metadata": {},
   "source": [
    " "
   ]
  },
  {
   "cell_type": "markdown",
   "metadata": {},
   "source": [
    " "
   ]
  },
  {
   "cell_type": "markdown",
   "metadata": {},
   "source": [
    " "
   ]
  },
  {
   "cell_type": "markdown",
   "metadata": {},
   "source": [
    "## Q7. Vowel Tester\n",
    "### Write a Python program to test whether a passed letter is a vowel or not"
   ]
  },
  {
   "cell_type": "markdown",
   "metadata": {},
   "source": [
    "#### Capital Vowel"
   ]
  },
  {
   "cell_type": "code",
   "execution_count": null,
   "metadata": {},
   "outputs": [],
   "source": [
    "character = input(\"Enter a character = \")\n",
    "\n",
    "if (character == \"a\" or character == \"e\" or character == \"i\" or character == \"o\" or character == \"u\" \n",
    "    or character == \"A\" or character == \"E\" or character == \"I\" or character == \"O\" or character == \"U\"):\n",
    "        print(\"\\nLetter\" , character , \"is a vowel\")\n",
    "\n",
    "else:\n",
    "    print(\"\\nLetter\" , character,  \"is not a vowel\")"
   ]
  },
  {
   "cell_type": "markdown",
   "metadata": {},
   "source": [
    "#### Small Vowel"
   ]
  },
  {
   "cell_type": "code",
   "execution_count": null,
   "metadata": {},
   "outputs": [],
   "source": [
    "character = input(\"Enter a character = \")\n",
    "\n",
    "if (character == \"a\" or character == \"e\" or character == \"i\" or character == \"o\" or character == \"u\" \n",
    "    or character == \"A\" or character == \"E\" or character == \"I\" or character == \"O\" or character == \"U\"):\n",
    "        print(\"\\nLetter\" , character , \"is a vowel\")\n",
    "\n",
    "else:\n",
    "    print(\"\\nLetter\" , character,  \"is not a vowel\")"
   ]
  },
  {
   "cell_type": "markdown",
   "metadata": {},
   "source": [
    "#### Consonant"
   ]
  },
  {
   "cell_type": "code",
   "execution_count": null,
   "metadata": {},
   "outputs": [],
   "source": [
    "character = input(\"Enter a character = \")\n",
    "\n",
    "if (character == \"a\" or character == \"e\" or character == \"i\" or character == \"o\" or character == \"u\" \n",
    "    or character == \"A\" or character == \"E\" or character == \"I\" or character == \"O\" or character == \"U\"):\n",
    "        print(\"\\nLetter\" , character , \"is a vowel\")\n",
    "\n",
    "else:\n",
    "    print(\"\\nLetter\" , character,  \"is not a vowel\")"
   ]
  },
  {
   "cell_type": "markdown",
   "metadata": {},
   "source": [
    " "
   ]
  },
  {
   "cell_type": "markdown",
   "metadata": {},
   "source": [
    " "
   ]
  },
  {
   "cell_type": "markdown",
   "metadata": {},
   "source": [
    " "
   ]
  },
  {
   "cell_type": "markdown",
   "metadata": {},
   "source": [
    " "
   ]
  },
  {
   "cell_type": "markdown",
   "metadata": {},
   "source": [
    "## Q8. Triangle area\n",
    "### Write a Python program that will accept the base and height of a triangle and compute the area\n",
    "###### Reference:\n",
    "https://www.mathgoodies.com/lessons/vol1/area_triangle"
   ]
  },
  {
   "cell_type": "markdown",
   "metadata": {},
   "source": [
    "#### Area of a Triangle"
   ]
  },
  {
   "cell_type": "code",
   "execution_count": null,
   "metadata": {},
   "outputs": [],
   "source": [
    "base = float (input (\"Enter the base value of the triangle = \"))\n",
    "height = float (input (\"Enter the height value of the triangle = \"))\n",
    "\n",
    "area = (base*height)/2\n",
    "\n",
    "print(\"\\nThe area of the triangle is = \", area)"
   ]
  },
  {
   "cell_type": "markdown",
   "metadata": {},
   "source": [
    " \n"
   ]
  },
  {
   "cell_type": "markdown",
   "metadata": {},
   "source": [
    " "
   ]
  },
  {
   "cell_type": "markdown",
   "metadata": {},
   "source": [
    " "
   ]
  },
  {
   "cell_type": "markdown",
   "metadata": {},
   "source": [
    " "
   ]
  },
  {
   "cell_type": "markdown",
   "metadata": {},
   "source": [
    "## Q9. Calculate Interest\n",
    "### Write a Python program to compute the future value of a specified principal amount, rate of interest, and a number of years"
   ]
  },
  {
   "cell_type": "code",
   "execution_count": 4,
   "metadata": {},
   "outputs": [
    {
     "name": "stdout",
     "output_type": "stream",
     "text": [
      "Please enter the principal amount = 10000\n",
      "Please enter the rate of interest in % = 0.1\n",
      "Enter the number of years for investment = 5\n",
      "\n",
      "After 5.0  years your principal amount 10000.0  over an interest rate of 0.1  will be =  16105.100000000006\n"
     ]
    }
   ],
   "source": [
    "principal_amount = float (input (\"Please enter the principal amount = \"))\n",
    "interest_rate = float (input (\"Please enter the rate of interest in % = \"))\n",
    "years = float (input (\"Enter the number of years for investment = \"))\n",
    "\n",
    "final_amount = principal_amount * (1 + interest_rate) ** years\n",
    "\n",
    "print(\"\\nAfter\" , years , \" years your principal amount\", principal_amount, \" over an interest rate of\" , interest_rate, \" will be = \", final_amount)"
   ]
  },
  {
   "cell_type": "markdown",
   "metadata": {},
   "source": [
    " "
   ]
  },
  {
   "cell_type": "markdown",
   "metadata": {},
   "source": [
    " "
   ]
  },
  {
   "cell_type": "markdown",
   "metadata": {},
   "source": [
    " "
   ]
  },
  {
   "cell_type": "markdown",
   "metadata": {},
   "source": [
    " "
   ]
  },
  {
   "cell_type": "markdown",
   "metadata": {},
   "source": [
    "## Q10. Euclidean distance\n",
    "### write a Python program to compute the distance between the points (x1, y1) and (x2, y2)."
   ]
  },
  {
   "cell_type": "code",
   "execution_count": 28,
   "metadata": {},
   "outputs": [
    {
     "name": "stdout",
     "output_type": "stream",
     "text": [
      "Enter Co-ordinates for x1 = 2\n",
      "Enter Co-ordinates for x2 = 4\n",
      "Enter Co-ordinates for y1 = 4\n",
      "Enter Co-ordinates for y2 = 4\n",
      "\n",
      "Distance between points ( 2 , 4 ) and ( 4 , 4 ) is 2.0\n"
     ]
    }
   ],
   "source": [
    "x1 = int (input (\"Enter Co-ordinates for x1 = \") )\n",
    "x2 = int (input (\"Enter Co-ordinates for x2 = \") )\n",
    "y1 = int (input (\"Enter Co-ordinates for y1 = \") )\n",
    "y2 = int (input (\"Enter Co-ordinates for y2 = \") )\n",
    "\n",
    "formula = ( (x2-x1)**2 ) + ( (y2-y1)**2 )\n",
    "distance = (formula)**0.5\n",
    "\n",
    "print (\"\\nDistance between points (\", x1 , \",\" , x2 , \")\" , \"and (\" , y1 , \",\" , y2 , \") is\" , distance)"
   ]
  },
  {
   "cell_type": "markdown",
   "metadata": {},
   "source": [
    " "
   ]
  },
  {
   "cell_type": "markdown",
   "metadata": {},
   "source": [
    " "
   ]
  },
  {
   "cell_type": "markdown",
   "metadata": {},
   "source": [
    " "
   ]
  },
  {
   "cell_type": "markdown",
   "metadata": {},
   "source": [
    " "
   ]
  },
  {
   "cell_type": "markdown",
   "metadata": {},
   "source": [
    "## Q11. Feet to Centimeter Converter\n",
    "### Write a Python program to convert height in feet to centimetres."
   ]
  },
  {
   "cell_type": "code",
   "execution_count": 31,
   "metadata": {},
   "outputs": [
    {
     "name": "stdout",
     "output_type": "stream",
     "text": [
      "Enter Height in Feet = 3\n",
      "\n",
      "There are 91.44 cm in  3.0 ft\n"
     ]
    }
   ],
   "source": [
    "feet = float ( input (\"Enter Height in Feet = \") )\n",
    "calc = feet * 30.48\n",
    "\n",
    "print(\"\\nThere are\" , calc , \"cm in \" , feet , \"ft\")"
   ]
  },
  {
   "cell_type": "markdown",
   "metadata": {},
   "source": [
    " "
   ]
  },
  {
   "cell_type": "markdown",
   "metadata": {},
   "source": [
    " "
   ]
  },
  {
   "cell_type": "markdown",
   "metadata": {},
   "source": [
    " "
   ]
  },
  {
   "cell_type": "markdown",
   "metadata": {},
   "source": [
    " "
   ]
  },
  {
   "cell_type": "markdown",
   "metadata": {},
   "source": [
    "## Q12. BMI Calculator\n",
    "### Write a Python program to calculate body mass index"
   ]
  },
  {
   "cell_type": "code",
   "execution_count": 33,
   "metadata": {},
   "outputs": [
    {
     "name": "stdout",
     "output_type": "stream",
     "text": [
      "Enter height in cm = 180\n",
      "Enter weight in kg = 75\n",
      "\n",
      "Your BMI is:  23.148148148148145\n"
     ]
    }
   ],
   "source": [
    "height_in_cm = float (input ( \"Enter height in cm = \") )\n",
    "weight = float (input (\"Enter weight in kg = \") )\n",
    "\n",
    "height_in_m = height_in_cm / 100\n",
    "\n",
    "calc = weight/height_in_m**2\n",
    "\n",
    "print(\"\\nYour BMI is: \", calc)"
   ]
  },
  {
   "cell_type": "markdown",
   "metadata": {},
   "source": [
    " "
   ]
  },
  {
   "cell_type": "markdown",
   "metadata": {},
   "source": [
    " "
   ]
  },
  {
   "cell_type": "markdown",
   "metadata": {},
   "source": [
    " "
   ]
  },
  {
   "cell_type": "markdown",
   "metadata": {},
   "source": [
    " "
   ]
  },
  {
   "cell_type": "markdown",
   "metadata": {},
   "source": [
    "## Q13. Sum of n Positive Integers\n",
    "### Write a python program to sum of the first n positive integers"
   ]
  },
  {
   "cell_type": "code",
   "execution_count": 37,
   "metadata": {},
   "outputs": [
    {
     "name": "stdout",
     "output_type": "stream",
     "text": [
      "Enter the value of n = 6\n",
      "\n",
      "sum of n positive integers till 5 is 21.0\n"
     ]
    }
   ],
   "source": [
    "num = int (input (\"Enter the value of n = \") )\n",
    "\n",
    "summ = (num * (num + 1)) /2\n",
    "\n",
    "print(\"\\nsum of n positive integers till\" , n , \"is\", summ)"
   ]
  },
  {
   "cell_type": "markdown",
   "metadata": {},
   "source": [
    " "
   ]
  },
  {
   "cell_type": "markdown",
   "metadata": {},
   "source": [
    " "
   ]
  },
  {
   "cell_type": "markdown",
   "metadata": {},
   "source": [
    " "
   ]
  },
  {
   "cell_type": "markdown",
   "metadata": {},
   "source": [
    " "
   ]
  },
  {
   "cell_type": "markdown",
   "metadata": {},
   "source": [
    "## Q14. Digits Sum of a Number\n",
    "### Write a Python program to calculate the sum of the digits in an integer"
   ]
  },
  {
   "cell_type": "markdown",
   "metadata": {},
   "source": [
    "#### 2 numbers entry"
   ]
  },
  {
   "cell_type": "code",
   "execution_count": 47,
   "metadata": {},
   "outputs": [
    {
     "name": "stdout",
     "output_type": "stream",
     "text": [
      "enter a number = 15\n",
      "sum of 1 + 5  is =  6\n"
     ]
    }
   ],
   "source": [
    "num = int(input (\"enter a number = \"))\n",
    "\n",
    "n1 = num // 1000\n",
    "\n",
    "n2 = (num - n1*1000)//100\n",
    "\n",
    "n3 = (num - n1*1000 - n2*100)//10\n",
    "\n",
    "n4 = num - n1*1000 - n2*100 - n3*10\n",
    "\n",
    "sum = n1+n2+n3+n4\n",
    "\n",
    "if n1 > 0 and n2 > 0:\n",
    "    print(\"sum of\" , str(n1) ,\"+\", str(n2),\"+\", str(n3), \"+\", str(n4), \" is = \", sum)\n",
    "else:\n",
    "    print(\"sum of\" , str(n3), \"+\", str(n4), \" is = \", sum)"
   ]
  },
  {
   "cell_type": "markdown",
   "metadata": {},
   "source": [
    "#### 4 numbers entry"
   ]
  },
  {
   "cell_type": "code",
   "execution_count": 2,
   "metadata": {},
   "outputs": [
    {
     "name": "stdout",
     "output_type": "stream",
     "text": [
      "enter a number = 4\n",
      "sum of 0 + 4  is =  4\n"
     ]
    }
   ],
   "source": [
    "num = int(input (\"enter a number = \"))\n",
    "\n",
    "n1 = num // 1000\n",
    "\n",
    "n2 = (num - n1*1000)//100\n",
    "\n",
    "n3 = (num - n1*1000 - n2*100)//10\n",
    "\n",
    "n4 = num - n1*1000 - n2*100 - n3*10\n",
    "\n",
    "sum = n1+n2+n3+n4\n",
    "\n",
    "if n1 > 0 and n2 > 0:\n",
    "    print(\"sum of\" , str(n1) ,\"+\", str(n2),\"+\", str(n3), \"+\", str(n4), \" is = \", sum)\n",
    "else:\n",
    "    print(\"sum of\" , str(n3), \"+\", str(n4), \" is = \", sum)"
   ]
  },
  {
   "cell_type": "markdown",
   "metadata": {},
   "source": [
    " "
   ]
  },
  {
   "cell_type": "markdown",
   "metadata": {},
   "source": [
    "## Q15:Write a Python program to calculate the sum of the digits in an integer"
   ]
  },
  {
   "cell_type": "code",
   "execution_count": 30,
   "metadata": {},
   "outputs": [
    {
     "name": "stdout",
     "output_type": "stream",
     "text": [
      "Input a digit integer numbers: 22222\n",
      "The sum of digits in the number is 28\n"
     ]
    }
   ],
   "source": [
    "num = int(input(\"Input a digit integer numbers: \"))\n",
    "x  = num //1000\n",
    "x1 = (num - x*1000)//100\n",
    "x2 = (num - x*1000 - x1*100)//10\n",
    "x3 = num - x*1000 - x1*100 - x2*10\n",
    "print(\"The sum of digits in the number is\", x+x1+x2+x3)"
   ]
  },
  {
   "cell_type": "markdown",
   "metadata": {},
   "source": [
    " "
   ]
  },
  {
   "cell_type": "markdown",
   "metadata": {},
   "source": [
    "## Q16: Write a Python program to convert an decimal integer to binary"
   ]
  },
  {
   "cell_type": "code",
   "execution_count": 12,
   "metadata": {},
   "outputs": [
    {
     "name": "stdout",
     "output_type": "stream",
     "text": [
      "Enter any decimal number: 67\n",
      "1000011"
     ]
    }
   ],
   "source": [
    " def decimalToBinary(num):\n",
    "    if num > 1:\n",
    "        decimalToBinary(num // 2)\n",
    "    print(num % 2, end='')\n",
    "number = int(input(\"Enter any decimal number: \"))\n",
    "\n",
    "decimalToBinary(number)"
   ]
  },
  {
   "cell_type": "markdown",
   "metadata": {},
   "source": [
    "## Q17: Write a program to convert binary number to Decimal number"
   ]
  },
  {
   "cell_type": "code",
   "execution_count": 14,
   "metadata": {},
   "outputs": [
    {
     "name": "stdout",
     "output_type": "stream",
     "text": [
      "Input a binary number: 1011\n",
      "The decimal value of the number is 11\n"
     ]
    }
   ],
   "source": [
    "b_num = list(input(\"Input a binary number: \"))\n",
    "value = 0\n",
    "\n",
    "for i in range(len(b_num)):\n",
    "\tdigit = b_num.pop()\n",
    "\tif digit == '1':\n",
    "\t\tvalue = value + pow(2, i)\n",
    "print(\"The decimal value of the number is\", value)\n"
   ]
  },
  {
   "cell_type": "markdown",
   "metadata": {},
   "source": [
    "## Q18: Input a text and count the occurrences of vowels and consonant"
   ]
  },
  {
   "cell_type": "code",
   "execution_count": 21,
   "metadata": {},
   "outputs": [
    {
     "name": "stdout",
     "output_type": "stream",
     "text": [
      "Please Enter Your Own String : usman\n",
      "Total Number of Vowels in this String =  2\n",
      "Total Number of Consonants in this String =  3\n"
     ]
    }
   ],
   "source": [
    "str1 = input(\"Please Enter Your Own String : \")\n",
    "vowels = 0\n",
    "consonants = 0\n",
    "\n",
    "for i in str1:\n",
    "    if(i == 'a' or i == 'e' or i == 'i' or i == 'o' or i == 'u'\n",
    "       or i == 'A' or i == 'E' or i == 'I' or i == 'O' or i == 'U'):\n",
    "        vowels = vowels + 1\n",
    "    else:\n",
    "        consonants = consonants + 1\n",
    " \n",
    "print(\"Total Number of Vowels in this String = \", vowels)\n",
    "print(\"Total Number of Consonants in this String = \", consonants)"
   ]
  },
  {
   "cell_type": "markdown",
   "metadata": {},
   "source": [
    "## Q19: Write a program to check whether given input is palindrome or not"
   ]
  },
  {
   "cell_type": "code",
   "execution_count": 25,
   "metadata": {},
   "outputs": [
    {
     "name": "stdout",
     "output_type": "stream",
     "text": [
      "Enter number:5\n",
      "The number is a palindrome!\n"
     ]
    }
   ],
   "source": [
    "n=int(input(\"Enter number:\"))\n",
    "temp=n\n",
    "rev=0\n",
    "while(n>0):\n",
    "    dig=n%10\n",
    "    rev=rev*10+dig\n",
    "    n=n//10\n",
    "if(temp==rev):\n",
    "    print(\"The number is a palindrome!\")\n",
    "else:\n",
    "    print(\"The number isn't a palindrome!\")"
   ]
  },
  {
   "cell_type": "markdown",
   "metadata": {},
   "source": [
    "## Q20: Write a Python program that accepts a string and calculate the number of digits and letters"
   ]
  },
  {
   "cell_type": "code",
   "execution_count": 27,
   "metadata": {},
   "outputs": [
    {
     "name": "stdout",
     "output_type": "stream",
     "text": [
      "Input a string syed usman hussain\n",
      "Letters 16\n",
      "Digits 0\n"
     ]
    }
   ],
   "source": [
    "s = input(\"Input a string \")\n",
    "d=l=0\n",
    "for c in s:\n",
    "    if c.isdigit():\n",
    "        d=d+1\n",
    "    elif c.isalpha():\n",
    "        l=l+1\n",
    "    else:\n",
    "        pass\n",
    "print(\"Letters\", l)\n",
    "print(\"Digits\", d)"
   ]
  },
  {
   "cell_type": "markdown",
   "metadata": {},
   "source": [
    "## Q21: Write a Python program to construct the following pattern"
   ]
  },
  {
   "cell_type": "code",
   "execution_count": 28,
   "metadata": {},
   "outputs": [
    {
     "name": "stdout",
     "output_type": "stream",
     "text": [
      "\n",
      "* \n",
      "* * \n",
      "* * * \n",
      "* * * * \n",
      "* * * * * \n",
      "* * * * \n",
      "* * * \n",
      "* * \n",
      "* \n"
     ]
    }
   ],
   "source": [
    "n=5;\n",
    "for i in range(n):\n",
    "    for j in range(i):\n",
    "        print ('* ', end=\"\")\n",
    "    print('')\n",
    "\n",
    "for i in range(n,0,-1):\n",
    "    for j in range(i):\n",
    "        print('* ', end=\"\")\n",
    "    print('')"
   ]
  },
  {
   "cell_type": "markdown",
   "metadata": {},
   "source": [
    "## Q23: Write a Python program to construct the following pattern"
   ]
  },
  {
   "cell_type": "code",
   "execution_count": 32,
   "metadata": {},
   "outputs": [
    {
     "name": "stdout",
     "output_type": "stream",
     "text": [
      "\n",
      "1\n",
      "22\n",
      "333\n",
      "4444\n",
      "55555\n",
      "666666\n",
      "7777777\n",
      "88888888\n",
      "999999999\n"
     ]
    }
   ],
   "source": [
    "for i in range(10):\n",
    "    print(str(i) * i)"
   ]
  },
  {
   "cell_type": "code",
   "execution_count": null,
   "metadata": {},
   "outputs": [],
   "source": []
  }
 ],
 "metadata": {
  "kernelspec": {
   "display_name": "Python 3",
   "language": "python",
   "name": "python3"
  },
  "language_info": {
   "codemirror_mode": {
    "name": "ipython",
    "version": 3
   },
   "file_extension": ".py",
   "mimetype": "text/x-python",
   "name": "python",
   "nbconvert_exporter": "python",
   "pygments_lexer": "ipython3",
   "version": "3.7.3"
  }
 },
 "nbformat": 4,
 "nbformat_minor": 2
}
